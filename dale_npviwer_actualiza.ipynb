{
 "cells": [
  {
   "cell_type": "code",
   "execution_count": null,
   "id": "d12ce5bc",
   "metadata": {},
   "outputs": [
    {
     "data": {
      "text/html": [
       "\n",
       "    <div style=\"display: flex; justify-content: space-around; gap: 20px; align-items: center;\">\n",
       "      <div style=\"text-align: center;\">\n",
       "        <p>la cucaracha</p>\n",
       "        <audio controls>\n",
       "          <source src=\"https://raw.githubusercontent.com/mnoe893/PDS_UTNBA_2025/main/signals_ts7/la_cucaracha.wav\" type=\"audio/wav\">\n",
       "          Tu navegador no soporta el elemento de audio.\n",
       "        </audio>\n",
       "      </div>\n",
       "      <div style=\"text-align: center;\">\n",
       "        <p>prueba</p>\n",
       "        <audio controls>\n",
       "          <source src=\"https://raw.githubusercontent.com/mnoe893/PDS_UTNBA_2025/main/signals_ts7/prueba_psd.wav\" type=\"audio/wav\">\n",
       "          Tu navegador no soporta el elemento de audio.\n",
       "        </audio>\n",
       "      </div>\n",
       "      <div style=\"text-align: center;\">\n",
       "        <p>silbido</p>\n",
       "        <audio controls>\n",
       "          <source src=\"https://raw.githubusercontent.com/mnoe893/PDS_UTNBA_2025/main/signals_ts7/silbido.wav\" type=\"audio/wav\">\n",
       "          Tu navegador no soporta el elemento de audio.\n",
       "        </audio>\n",
       "      </div>\n",
       "    </div>\n",
       "    "
      ],
      "text/plain": [
       "<IPython.core.display.HTML object>"
      ]
     },
     "execution_count": 21,
     "metadata": {},
     "output_type": "execute_result"
    }
   ],
   "source": [
    "from IPython.display import HTML\n",
    "\n",
    "url1 = \"https://raw.githubusercontent.com/mnoe893/PDS_UTNBA_2025/main/signals_ts7/la_cucaracha.wav\"\n",
    "url2 = \"https://raw.githubusercontent.com/mnoe893/PDS_UTNBA_2025/main/signals_ts7/prueba_psd.wav\"\n",
    "url3 = \"https://raw.githubusercontent.com/mnoe893/PDS_UTNBA_2025/main/signals_ts7/silbido.wav\"\n",
    "\n",
    "url4 = \"https://raw.githubusercontent.com/mnoe893/PDS_UTNBA_2025/main/signals_ts7/7900200T.wav\"\n",
    "url5 = \"https://raw.githubusercontent.com/mnoe893/PDS_UTNBA_2025/main/signals_ts7/7900200U.wav\"\n",
    "url6= \"https://raw.githubusercontent.com/mnoe893/PDS_UTNBA_2025/main/signals_ts7/79002007.wav\"\n",
    "\n",
    "mostrar_3_audios(url1, url2, url3, \"la cucaracha\", \"prueba\", \"silbido\")"
   ]
  },
  {
   "cell_type": "code",
   "execution_count": 22,
   "id": "c75628a9",
   "metadata": {},
   "outputs": [
    {
     "data": {
      "text/html": [
       "\n",
       "    <div style=\"display: flex; justify-content: space-around; gap: 20px; align-items: center;\">\n",
       "      <div style=\"text-align: center;\">\n",
       "        <p>la a</p>\n",
       "        <audio controls>\n",
       "          <source src=\"https://raw.githubusercontent.com/mnoe893/PDS_UTNBA_2025/main/signals_ts7/7900200T.wav\" type=\"audio/wav\">\n",
       "          Tu navegador no soporta el elemento de audio.\n",
       "        </audio>\n",
       "      </div>\n",
       "      <div style=\"text-align: center;\">\n",
       "        <p>b</p>\n",
       "        <audio controls>\n",
       "          <source src=\"https://raw.githubusercontent.com/mnoe893/PDS_UTNBA_2025/main/signals_ts7/7900200U.wav\" type=\"audio/wav\">\n",
       "          Tu navegador no soporta el elemento de audio.\n",
       "        </audio>\n",
       "      </div>\n",
       "      <div style=\"text-align: center;\">\n",
       "        <p>c</p>\n",
       "        <audio controls>\n",
       "          <source src=\"https://raw.githubusercontent.com/mnoe893/PDS_UTNBA_2025/main/signals_ts7/79002007.wav\" type=\"audio/wav\">\n",
       "          Tu navegador no soporta el elemento de audio.\n",
       "        </audio>\n",
       "      </div>\n",
       "    </div>\n",
       "    "
      ],
      "text/plain": [
       "<IPython.core.display.HTML object>"
      ]
     },
     "execution_count": 22,
     "metadata": {},
     "output_type": "execute_result"
    }
   ],
   "source": [
    "mostrar_3_audios(url4, url5, url6, \"la a\", \"b\", \"c\")"
   ]
  },
  {
   "cell_type": "code",
   "execution_count": 23,
   "id": "08a17697",
   "metadata": {},
   "outputs": [],
   "source": [
    "def mostrar_3_audios(url1, url2, url3, titulo1=\"Audio 1\", titulo2=\"Audio 2\", titulo3=\"Audio 3\"):\n",
    "    html = f\"\"\"\n",
    "    <div style=\"display: flex; justify-content: space-around; gap: 20px; align-items: center;\">\n",
    "      <div style=\"text-align: center;\">\n",
    "        <p>{titulo1}</p>\n",
    "        <audio controls>\n",
    "          <source src=\"{url1}\" type=\"audio/wav\">\n",
    "          Audio no soportado por el navegador.\n",
    "        </audio>\n",
    "      </div>\n",
    "      <div style=\"text-align: center;\">\n",
    "        <p>{titulo2}</p>\n",
    "        <audio controls>\n",
    "          <source src=\"{url2}\" type=\"audio/wav\">\n",
    "          Audio no soportado por el navegador.\n",
    "        </audio>\n",
    "      </div>\n",
    "      <div style=\"text-align: center;\">\n",
    "        <p>{titulo3}</p>\n",
    "        <audio controls>\n",
    "          <source src=\"{url3}\" type=\"audio/wav\">\n",
    "          Audio sigue sin ser soportado por el navegador.\n",
    "        </audio>\n",
    "      </div>\n",
    "    </div>\n",
    "    \"\"\"\n",
    "    return HTML(html)"
   ]
  }
 ],
 "metadata": {
  "kernelspec": {
   "display_name": "Python 3",
   "language": "python",
   "name": "python3"
  },
  "language_info": {
   "codemirror_mode": {
    "name": "ipython",
    "version": 3
   },
   "file_extension": ".py",
   "mimetype": "text/x-python",
   "name": "python",
   "nbconvert_exporter": "python",
   "pygments_lexer": "ipython3",
   "version": "3.6.8"
  }
 },
 "nbformat": 4,
 "nbformat_minor": 5
}
