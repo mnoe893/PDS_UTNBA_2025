{
 "cells": [
  {
   "cell_type": "code",
   "execution_count": 7,
   "id": "d12ce5bc",
   "metadata": {},
   "outputs": [
    {
     "data": {
      "text/html": [
       "\n",
       "<audio controls>\n",
       "  <source src=\"https://raw.githubusercontent.com/mnoe893/PDS_UTNBA_2025/main/signals_ts7/la_cucaracha.wav\" type=\"audio/wav\">\n",
       "  Tu navegador no soporta el elemento de audio.\n",
       "</audio>\n"
      ],
      "text/plain": [
       "<IPython.core.display.HTML object>"
      ]
     },
     "execution_count": 7,
     "metadata": {},
     "output_type": "execute_result"
    }
   ],
   "source": [
    "from IPython.display import HTML\n",
    "\n",
    "HTML(\"\"\"\n",
    "<audio controls>\n",
    "  <source src=\"https://raw.githubusercontent.com/mnoe893/PDS_UTNBA_2025/main/signals_ts7/la_cucaracha.wav\" type=\"audio/wav\">\n",
    "  Tu navegador no soporta el elemento de audio.\n",
    "</audio>\n",
    "\"\"\")"
   ]
  }
 ],
 "metadata": {
  "kernelspec": {
   "display_name": "Python 3",
   "language": "python",
   "name": "python3"
  },
  "language_info": {
   "codemirror_mode": {
    "name": "ipython",
    "version": 3
   },
   "file_extension": ".py",
   "mimetype": "text/x-python",
   "name": "python",
   "nbconvert_exporter": "python",
   "pygments_lexer": "ipython3",
   "version": "3.6.8"
  }
 },
 "nbformat": 4,
 "nbformat_minor": 5
}
